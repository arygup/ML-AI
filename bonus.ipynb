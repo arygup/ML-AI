{
 "cells": [
  {
   "cell_type": "code",
   "execution_count": 11,
   "id": "94f0ba51",
   "metadata": {},
   "outputs": [],
   "source": [
    "import numpy as np\n",
    "import matplotlib.pyplot as plt \n",
    "import pandas as pd\n",
    "import sklearn\n",
    "from sklearn import linear_model\n",
    "from sklearn.linear_model import LinearRegression\n",
    "from sklearn.preprocessing import PolynomialFeatures\n",
    "from tabulate import tabulate\n",
    "import math"
   ]
  },
  {
   "cell_type": "code",
   "execution_count": 12,
   "id": "f7eef66a",
   "metadata": {},
   "outputs": [
    {
     "data": {
      "text/plain": [
       "<matplotlib.collections.PathCollection at 0x7fb5ca33b610>"
      ]
     },
     "execution_count": 12,
     "metadata": {},
     "output_type": "execute_result"
    },
    {
     "data": {
      "image/png": "[encoded data removed]",
      "text/plain": [
       "<Figure size 432x288 with 1 Axes>"
      ]
     },
     "metadata": {
      "needs_background": "light"
     },
     "output_type": "display_data"
    },
    {
     "data": {
      "image/png": "[encoded data removed]",
      "text/plain": [
       "<Figure size 432x288 with 1 Axes>"
      ]
     },
     "metadata": {
      "needs_background": "light"
     },
     "output_type": "display_data"
    }
   ],
   "source": [
    "dt = pd.read_pickle('capacitor_dataset.pickle')\n",
    "\n",
    "\n",
    "# Q = 5C e^(-t/RC) \n",
    "# given values of time and charge\n",
    "\n",
    "siz = len(dt)\n",
    "\n",
    "X = dt[:siz,0]\n",
    "Y = dt[:siz,1]\n",
    "\n",
    "plt.figure(1)\n",
    "plt.title(\"Charge vs Time\")\n",
    "plt.scatter(X,Y)\n",
    "\n",
    "# take log on both sides \n",
    "# ln(Q) = ln(5C) -t/RC\n",
    "\n",
    "for i in range(siz):\n",
    "    Y[i] = math.log(Y[i])\n",
    "    \n",
    "\n",
    "plt.figure(2)\n",
    "plt.title(\"Ln(Charge) vs Time\")\n",
    "plt.scatter(X,Y)"
   ]
  },
  {
   "cell_type": "code",
   "execution_count": 13,
   "id": "c5cde91b",
   "metadata": {},
   "outputs": [
    {
     "name": "stdout",
     "output_type": "stream",
     "text": [
      "The slope is -0.19999999999999984\n",
      "The intercept is -8.29404964010213\n",
      " \n",
      "The Capacitance(C) is 4.999999999999487e-05\n",
      "The Resistance(R) is 100000.00000001033\n"
     ]
    }
   ],
   "source": [
    "# now for this 2nd figure, we must find the best fitting line\n",
    "\n",
    "reg = linear_model.LinearRegression()\n",
    "reg.fit(X.reshape(-1, 1), Y)\n",
    "\n",
    "print(\"The slope is \" + str(reg.coef_[0]))\n",
    "print(\"The intercept is \"+str(reg.intercept_))\n",
    "\n",
    "# calculating for value of C & R according to the best fit line\n",
    "# ln(Q) = ln(5C) -t/RC\n",
    "\n",
    "# therefore C = (e^(intercept))/5\n",
    "\n",
    "C = (math.e**(reg.intercept_))/5\n",
    "\n",
    "# slope is -1/RC\n",
    "\n",
    "R = -1/(C*reg.coef_[0])\n",
    "print(\" \")\n",
    "print(\"The Capacitance(C) is \" + str(C))\n",
    "print(\"The Resistance(R) is \" + str(R))"
   ]
  }
 ],
 "metadata": {
  "kernelspec": {
   "display_name": "Python 3 (ipykernel)",
   "language": "python",
   "name": "python3"
  },
  "language_info": {
   "codemirror_mode": {
    "name": "ipython",
    "version": 3
   },
   "file_extension": ".py",
   "mimetype": "text/x-python",
   "name": "python",
   "nbconvert_exporter": "python",
   "pygments_lexer": "ipython3",
   "version": "3.9.7"
  }
 },
 "nbformat": 4,
 "nbformat_minor": 5
}
